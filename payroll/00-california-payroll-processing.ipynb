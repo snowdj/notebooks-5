{
 "cells": [
  {
   "cell_type": "markdown",
   "metadata": {},
   "source": [
    "# Processing California's public payrolls"
   ]
  },
  {
   "cell_type": "markdown",
   "metadata": {},
   "source": [
    "This notebook processess annual government payroll [data](https://publicpay.ca.gov/Reports/RawExport.aspx) compiled and released annually by the California state controller's office. The data include anonymized salary information for all employees at cities, counties, special districts and state government. "
   ]
  },
  {
   "cell_type": "markdown",
   "metadata": {},
   "source": [
    "---"
   ]
  },
  {
   "cell_type": "markdown",
   "metadata": {},
   "source": [
    "### Load python tools"
   ]
  },
  {
   "cell_type": "code",
   "execution_count": 1,
   "metadata": {},
   "outputs": [],
   "source": [
    "import pandas as pd\n",
    "import zipfile\n",
    "from urllib.request import urlopen \n",
    "import pyarrow\n",
    "import cpi\n",
    "import os\n",
    "import glob\n",
    "import io\n",
    "import requests\n",
    "import matplotlib\n",
    "import json\n",
    "import numpy as np\n",
    "from altair import datum\n",
    "import altair as alt\n",
    "alt.renderers.enable('notebook')\n",
    "import altair_latimes as lat\n",
    "alt.themes.register('latimes', lat.theme)\n",
    "alt.themes.enable('latimes')\n",
    "pd.options.display.float_format = '{:,.0f}'.format"
   ]
  },
  {
   "cell_type": "markdown",
   "metadata": {},
   "source": [
    "### Download zipped salary tables by year and agency type"
   ]
  },
  {
   "cell_type": "code",
   "execution_count": 2,
   "metadata": {},
   "outputs": [],
   "source": [
    "# os.chdir('/Users/mhustiles/data/data/controller/input/')"
   ]
  },
  {
   "cell_type": "code",
   "execution_count": 3,
   "metadata": {},
   "outputs": [],
   "source": [
    "# formaturl = lambda x: 'https://publicpay.ca.gov/RawExport/' + f'{x[1]}_' + f'{x[0]}' + '.zip'"
   ]
  },
  {
   "cell_type": "code",
   "execution_count": 4,
   "metadata": {},
   "outputs": [],
   "source": [
    "# metadata = []\n",
    "# for y in range(2009,2019):\n",
    "#     for e in ['City', 'County', 'SpecialDistrict', 'StateDepartment']:\n",
    "# #     for e in ['City', 'County']:\n",
    "#         metadata.append(dict(entity = e, year = y, url = formaturl((e, y))))"
   ]
  },
  {
   "cell_type": "markdown",
   "metadata": {},
   "source": [
    "### Extract CSVs from .zip files, and then discard the .zip files"
   ]
  },
  {
   "cell_type": "code",
   "execution_count": 5,
   "metadata": {
    "scrolled": false
   },
   "outputs": [],
   "source": [
    "# for m in metadata:\n",
    "#     !wget '{m['url']}'\n",
    "#     !unzip \\*.zip\n",
    "#     !rm -f *.zip"
   ]
  },
  {
   "cell_type": "markdown",
   "metadata": {},
   "source": [
    "---"
   ]
  },
  {
   "cell_type": "markdown",
   "metadata": {},
   "source": [
    "### Read all the text files, loop and store them in a dataframe"
   ]
  },
  {
   "cell_type": "code",
   "execution_count": 6,
   "metadata": {},
   "outputs": [],
   "source": [
    "path = '/Users/mhustiles/data/data/controller/input/'\n",
    "all_files = glob.glob(os.path.join(path, \"*.csv\"))\n",
    "\n",
    "df_from_each_file = (pd.read_csv(f, encoding = \"ISO-8859-1\", \\\n",
    "            low_memory=False, dtype = {'DepartmentOrSubdivision': 'object', 'Year': 'object'}) for f in all_files)\n",
    "concatenated_df = pd.concat(df_from_each_file, ignore_index=True)"
   ]
  },
  {
   "cell_type": "markdown",
   "metadata": {},
   "source": [
    "### Trim the dataframe to the columns we need"
   ]
  },
  {
   "cell_type": "code",
   "execution_count": 17,
   "metadata": {},
   "outputs": [],
   "source": [
    "payroll = \\\n",
    "pd.DataFrame(concatenated_df[['Year','EmployerType','EmployerPopulation','EmployerName','DepartmentOrSubdivision',\\\n",
    "                 'Position','OvertimePay','TotalWages', 'TotalRetirementAndHealthContribution', 'EmployerCounty']])"
   ]
  },
  {
   "cell_type": "markdown",
   "metadata": {},
   "source": [
    "### Not everyone reports (or pays) overtime"
   ]
  },
  {
   "cell_type": "code",
   "execution_count": 18,
   "metadata": {},
   "outputs": [],
   "source": [
    "payroll['OvertimePay'].fillna(0, inplace = True)\n",
    "payroll['DepartmentOrSubdivision'].fillna('NOT LISTED', inplace = True)\n",
    "payroll['EmployerPopulation'].fillna(0, inplace = True)"
   ]
  },
  {
   "cell_type": "markdown",
   "metadata": {},
   "source": [
    "### Clean up column headers"
   ]
  },
  {
   "cell_type": "code",
   "execution_count": 19,
   "metadata": {},
   "outputs": [],
   "source": [
    "payroll.columns = payroll.columns.str.strip().str.lower().str.replace(' ', '_')\\\n",
    "                    .str.replace('(', '').str.replace(')', '').str.replace('-','_')"
   ]
  },
  {
   "cell_type": "code",
   "execution_count": 20,
   "metadata": {},
   "outputs": [],
   "source": [
    "payroll.rename(columns = {\n",
    "'employertype':'type',\n",
    "'employerpopulation':'population',\n",
    "'employername':'employer',\n",
    "'departmentorsubdivision':'department',\n",
    "'overtimepay':'overtime',\n",
    "'totalretirementandhealthcontribution':'benefits',\n",
    "'totalwages':'wages',\n",
    " }, inplace = True)"
   ]
  },
  {
   "cell_type": "markdown",
   "metadata": {},
   "source": [
    "### Uppercase everything because their title casing across hundreds of agencies is janky"
   ]
  },
  {
   "cell_type": "code",
   "execution_count": 21,
   "metadata": {},
   "outputs": [],
   "source": [
    "payroll = payroll.apply(lambda x: x.astype(str).str.upper())"
   ]
  },
  {
   "cell_type": "markdown",
   "metadata": {},
   "source": [
    "### Convert year column to datetime year for CPI function"
   ]
  },
  {
   "cell_type": "code",
   "execution_count": 22,
   "metadata": {},
   "outputs": [],
   "source": [
    "payroll['year'] = pd.to_datetime(payroll['year'])"
   ]
  },
  {
   "cell_type": "code",
   "execution_count": 23,
   "metadata": {},
   "outputs": [],
   "source": [
    "payroll['year'] = payroll['year'].dt.year"
   ]
  },
  {
   "cell_type": "markdown",
   "metadata": {},
   "source": [
    "### Adjust overtime on each row for CPI according to its respective year"
   ]
  },
  {
   "cell_type": "code",
   "execution_count": 25,
   "metadata": {},
   "outputs": [],
   "source": [
    "payroll[['overtime', 'population', 'wages', 'benefits']] = \\\n",
    "payroll[['overtime', 'population', 'wages', 'benefits']].astype(float)"
   ]
  },
  {
   "cell_type": "code",
   "execution_count": 26,
   "metadata": {},
   "outputs": [],
   "source": [
    "payroll['basewages'] = (payroll['wages'] - payroll['overtime']).astype(float)"
   ]
  },
  {
   "cell_type": "code",
   "execution_count": 27,
   "metadata": {},
   "outputs": [],
   "source": [
    "payroll['adjusted_overtime'] = payroll.apply(lambda x: cpi.inflate(x.overtime, x.year), axis=1)"
   ]
  },
  {
   "cell_type": "code",
   "execution_count": 28,
   "metadata": {},
   "outputs": [],
   "source": [
    "payroll['adjusted_wages'] = payroll.apply(lambda x: cpi.inflate(x.wages, x.year), axis=1)"
   ]
  },
  {
   "cell_type": "code",
   "execution_count": 29,
   "metadata": {},
   "outputs": [],
   "source": [
    "payroll['adjusted_benefits'] = payroll.apply(lambda x: cpi.inflate(x.benefits, x.year), axis=1)"
   ]
  },
  {
   "cell_type": "code",
   "execution_count": 30,
   "metadata": {},
   "outputs": [],
   "source": [
    "payroll['adjusted_basewages'] = payroll.apply(lambda x: cpi.inflate(x.basewages, x.year), axis=1)"
   ]
  },
  {
   "cell_type": "markdown",
   "metadata": {},
   "source": [
    "### How does the dataframe look? "
   ]
  },
  {
   "cell_type": "code",
   "execution_count": 31,
   "metadata": {},
   "outputs": [
    {
     "data": {
      "text/html": [
       "<div>\n",
       "<style scoped>\n",
       "    .dataframe tbody tr th:only-of-type {\n",
       "        vertical-align: middle;\n",
       "    }\n",
       "\n",
       "    .dataframe tbody tr th {\n",
       "        vertical-align: top;\n",
       "    }\n",
       "\n",
       "    .dataframe thead th {\n",
       "        text-align: right;\n",
       "    }\n",
       "</style>\n",
       "<table border=\"1\" class=\"dataframe\">\n",
       "  <thead>\n",
       "    <tr style=\"text-align: right;\">\n",
       "      <th></th>\n",
       "      <th>year</th>\n",
       "      <th>type</th>\n",
       "      <th>population</th>\n",
       "      <th>employer</th>\n",
       "      <th>department</th>\n",
       "      <th>position</th>\n",
       "      <th>overtime</th>\n",
       "      <th>wages</th>\n",
       "      <th>benefits</th>\n",
       "      <th>employercounty</th>\n",
       "      <th>basewages</th>\n",
       "      <th>adjusted_overtime</th>\n",
       "      <th>adjusted_wages</th>\n",
       "      <th>adjusted_benefits</th>\n",
       "      <th>adjusted_basewages</th>\n",
       "    </tr>\n",
       "  </thead>\n",
       "  <tbody>\n",
       "    <tr>\n",
       "      <th>0</th>\n",
       "      <td>2010</td>\n",
       "      <td>COUNTY</td>\n",
       "      <td>1,517,756</td>\n",
       "      <td>ALAMEDA</td>\n",
       "      <td>AC CENTRAL COLLECTIONS</td>\n",
       "      <td>ACCOUNTANT-AUDITOR</td>\n",
       "      <td>0</td>\n",
       "      <td>4,120</td>\n",
       "      <td>1,088</td>\n",
       "      <td>ALAMEDA</td>\n",
       "      <td>4,120</td>\n",
       "      <td>0</td>\n",
       "      <td>4,744</td>\n",
       "      <td>1,253</td>\n",
       "      <td>4,744</td>\n",
       "    </tr>\n",
       "    <tr>\n",
       "      <th>1</th>\n",
       "      <td>2010</td>\n",
       "      <td>COUNTY</td>\n",
       "      <td>1,517,756</td>\n",
       "      <td>ALAMEDA</td>\n",
       "      <td>AC CENTRAL COLLECTIONS</td>\n",
       "      <td>ACCOUNTING TECHNICIAN</td>\n",
       "      <td>0</td>\n",
       "      <td>54,438</td>\n",
       "      <td>14,031</td>\n",
       "      <td>ALAMEDA</td>\n",
       "      <td>54,438</td>\n",
       "      <td>0</td>\n",
       "      <td>62,689</td>\n",
       "      <td>16,158</td>\n",
       "      <td>62,689</td>\n",
       "    </tr>\n",
       "    <tr>\n",
       "      <th>2</th>\n",
       "      <td>2010</td>\n",
       "      <td>COUNTY</td>\n",
       "      <td>1,517,756</td>\n",
       "      <td>ALAMEDA</td>\n",
       "      <td>AC CENTRAL COLLECTIONS</td>\n",
       "      <td>ADMIN SPECIALIST II</td>\n",
       "      <td>0</td>\n",
       "      <td>25,376</td>\n",
       "      <td>5,486</td>\n",
       "      <td>ALAMEDA</td>\n",
       "      <td>25,376</td>\n",
       "      <td>0</td>\n",
       "      <td>29,222</td>\n",
       "      <td>6,318</td>\n",
       "      <td>29,222</td>\n",
       "    </tr>\n",
       "    <tr>\n",
       "      <th>3</th>\n",
       "      <td>2010</td>\n",
       "      <td>COUNTY</td>\n",
       "      <td>1,517,756</td>\n",
       "      <td>ALAMEDA</td>\n",
       "      <td>AC CENTRAL COLLECTIONS</td>\n",
       "      <td>AUDITOR ASSOCIATE I</td>\n",
       "      <td>0</td>\n",
       "      <td>31,225</td>\n",
       "      <td>8,710</td>\n",
       "      <td>ALAMEDA</td>\n",
       "      <td>31,225</td>\n",
       "      <td>0</td>\n",
       "      <td>35,958</td>\n",
       "      <td>10,030</td>\n",
       "      <td>35,958</td>\n",
       "    </tr>\n",
       "    <tr>\n",
       "      <th>4</th>\n",
       "      <td>2010</td>\n",
       "      <td>COUNTY</td>\n",
       "      <td>1,517,756</td>\n",
       "      <td>ALAMEDA</td>\n",
       "      <td>AC CENTRAL COLLECTIONS</td>\n",
       "      <td>AUDITOR ASSOCIATE I</td>\n",
       "      <td>0</td>\n",
       "      <td>27,677</td>\n",
       "      <td>4,916</td>\n",
       "      <td>ALAMEDA</td>\n",
       "      <td>27,677</td>\n",
       "      <td>0</td>\n",
       "      <td>31,872</td>\n",
       "      <td>5,661</td>\n",
       "      <td>31,872</td>\n",
       "    </tr>\n",
       "  </tbody>\n",
       "</table>\n",
       "</div>"
      ],
      "text/plain": [
       "   year    type  population employer              department  \\\n",
       "0  2010  COUNTY   1,517,756  ALAMEDA  AC CENTRAL COLLECTIONS   \n",
       "1  2010  COUNTY   1,517,756  ALAMEDA  AC CENTRAL COLLECTIONS   \n",
       "2  2010  COUNTY   1,517,756  ALAMEDA  AC CENTRAL COLLECTIONS   \n",
       "3  2010  COUNTY   1,517,756  ALAMEDA  AC CENTRAL COLLECTIONS   \n",
       "4  2010  COUNTY   1,517,756  ALAMEDA  AC CENTRAL COLLECTIONS   \n",
       "\n",
       "                position  overtime  wages  benefits employercounty  basewages  \\\n",
       "0     ACCOUNTANT-AUDITOR         0  4,120     1,088        ALAMEDA      4,120   \n",
       "1  ACCOUNTING TECHNICIAN         0 54,438    14,031        ALAMEDA     54,438   \n",
       "2    ADMIN SPECIALIST II         0 25,376     5,486        ALAMEDA     25,376   \n",
       "3    AUDITOR ASSOCIATE I         0 31,225     8,710        ALAMEDA     31,225   \n",
       "4    AUDITOR ASSOCIATE I         0 27,677     4,916        ALAMEDA     27,677   \n",
       "\n",
       "   adjusted_overtime  adjusted_wages  adjusted_benefits  adjusted_basewages  \n",
       "0                  0           4,744              1,253               4,744  \n",
       "1                  0          62,689             16,158              62,689  \n",
       "2                  0          29,222              6,318              29,222  \n",
       "3                  0          35,958             10,030              35,958  \n",
       "4                  0          31,872              5,661              31,872  "
      ]
     },
     "execution_count": 31,
     "metadata": {},
     "output_type": "execute_result"
    }
   ],
   "source": [
    "payroll.head()"
   ]
  },
  {
   "cell_type": "markdown",
   "metadata": {},
   "source": [
    "### How many records do we have here?"
   ]
  },
  {
   "cell_type": "code",
   "execution_count": 32,
   "metadata": {},
   "outputs": [
    {
     "data": {
      "text/plain": [
       "10826479"
      ]
     },
     "execution_count": 32,
     "metadata": {},
     "output_type": "execute_result"
    }
   ],
   "source": [
    "# How many records?\n",
    "len(payroll)"
   ]
  },
  {
   "cell_type": "markdown",
   "metadata": {},
   "source": [
    "### Clean up some employer names"
   ]
  },
  {
   "cell_type": "code",
   "execution_count": 33,
   "metadata": {},
   "outputs": [],
   "source": [
    "payroll['employer']\\\n",
    "    .replace('SACRAMENTO METROPOLITAN FIRE DISTRICT', 'SACRAMENTO METRO FIRE', inplace=True)"
   ]
  },
  {
   "cell_type": "code",
   "execution_count": 34,
   "metadata": {},
   "outputs": [],
   "source": [
    "payroll['employer']\\\n",
    "    .replace('FORESTRY & FIRE PROTECTION, CALIFORNIA DEPARTMENT OF', 'CALFIRE', inplace=True)"
   ]
  },
  {
   "cell_type": "code",
   "execution_count": 35,
   "metadata": {},
   "outputs": [],
   "source": [
    "payroll['type']\\\n",
    "    .replace('STATE DEPARTMENT', 'STATE', inplace=True)"
   ]
  },
  {
   "cell_type": "code",
   "execution_count": 36,
   "metadata": {},
   "outputs": [],
   "source": [
    "payroll['employer']\\\n",
    "    .replace('ORANGE COUNTY FIRE AUTHORITY', 'OC FIRE AUTHORITY', inplace=True)"
   ]
  },
  {
   "cell_type": "markdown",
   "metadata": {},
   "source": [
    "### Export table of all titles to help ID fire roles"
   ]
  },
  {
   "cell_type": "code",
   "execution_count": 37,
   "metadata": {},
   "outputs": [],
   "source": [
    "positions_all = payroll.groupby(['position', 'employer', 'type', 'department'])\\\n",
    "    .agg('size').reset_index()"
   ]
  },
  {
   "cell_type": "code",
   "execution_count": 38,
   "metadata": {},
   "outputs": [],
   "source": [
    "positions_all['position'] = positions_all['position']\\\n",
    "                            .str.replace('!ST ', '', regex=False)\\\n",
    "                            .str.replace('1ST ', '', regex=False)\\\n",
    "                            .str.replace('2ND', '', regex=False)\\\n",
    "                            .str.replace('.E.', '', regex=False)\\\n",
    "                            .str.replace(' - ', '', regex=False)\\\n",
    "                            .str.replace('\\d', '')\\\n",
    "                            .str.replace('[.!?\\\\-]', '')"
   ]
  },
  {
   "cell_type": "code",
   "execution_count": 39,
   "metadata": {},
   "outputs": [],
   "source": [
    "positions_fire = positions_all[ (positions_all['position'].str.contains('FIRE')) |\\\n",
    "                                       (positions_all['type'].str.contains('FIRE')) |\\\n",
    "                                       (positions_all['department'].str.contains('FIRE')) |\\\n",
    "                                       (positions_all['employer'].str.contains('FIRE'))]"
   ]
  },
  {
   "cell_type": "code",
   "execution_count": 40,
   "metadata": {},
   "outputs": [],
   "source": [
    "positions_fire_grouped = positions_fire.groupby(['position']).agg('size')"
   ]
  },
  {
   "cell_type": "code",
   "execution_count": 41,
   "metadata": {},
   "outputs": [],
   "source": [
    "positions_fire_grouped.to_csv('/Users/mhustiles/data/github/notebooks/payroll/input/positions_fire_grouped.csv', header=True)"
   ]
  },
  {
   "cell_type": "markdown",
   "metadata": {},
   "source": [
    "---"
   ]
  },
  {
   "cell_type": "markdown",
   "metadata": {},
   "source": [
    "### Export to a lightweight format"
   ]
  },
  {
   "cell_type": "code",
   "execution_count": 42,
   "metadata": {},
   "outputs": [],
   "source": [
    "payroll.reset_index().to_feather('/Users/mhustiles/data/data/controller/output/payroll.feather')"
   ]
  },
  {
   "cell_type": "code",
   "execution_count": 43,
   "metadata": {},
   "outputs": [],
   "source": [
    "payroll.reset_index().to_csv('/Users/mhustiles/data/data/controller/output/payroll.csv')"
   ]
  },
  {
   "cell_type": "markdown",
   "metadata": {},
   "source": [
    "---"
   ]
  },
  {
   "cell_type": "markdown",
   "metadata": {},
   "source": [
    "Data source: https://publicpay.ca.gov/Reports/RawExport.aspx"
   ]
  }
 ],
 "metadata": {
  "kernelspec": {
   "display_name": "Python 3",
   "language": "python",
   "name": "python3"
  },
  "language_info": {
   "codemirror_mode": {
    "name": "ipython",
    "version": 3
   },
   "file_extension": ".py",
   "mimetype": "text/x-python",
   "name": "python",
   "nbconvert_exporter": "python",
   "pygments_lexer": "ipython3",
   "version": "3.7.3"
  }
 },
 "nbformat": 4,
 "nbformat_minor": 2
}
